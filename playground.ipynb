{
 "cells": [
  {
   "cell_type": "code",
   "execution_count": 1,
   "metadata": {},
   "outputs": [],
   "source": [
    "from pydantic import BaseModel\n"
   ]
  },
  {
   "cell_type": "code",
   "execution_count": 2,
   "metadata": {},
   "outputs": [],
   "source": [
    "class ToolsCard(BaseModel):\n",
    "    id: int\n",
    "    name: str\n",
    "    description: str\n",
    "    image: str\n",
    "    url: str\n",
    "    category: str\n",
    "    tags: list[str]\n",
    "    rating: float\n",
    "    rating_count: int\n",
    "    created_at: str\n",
    "    updated_at: str"
   ]
  },
  {
   "cell_type": "code",
   "execution_count": 10,
   "metadata": {},
   "outputs": [],
   "source": [
    "a = ToolsCard.model_construct(id = 1,description =\"dadasd\")"
   ]
  },
  {
   "cell_type": "code",
   "execution_count": 14,
   "metadata": {},
   "outputs": [
    {
     "data": {
      "text/plain": [
       "dict"
      ]
     },
     "execution_count": 14,
     "metadata": {},
     "output_type": "execute_result"
    }
   ],
   "source": [
    "type(a.model_dump())"
   ]
  },
  {
   "cell_type": "code",
   "execution_count": 11,
   "metadata": {},
   "outputs": [
    {
     "data": {
      "text/plain": [
       "'dadasd'"
      ]
     },
     "execution_count": 11,
     "metadata": {},
     "output_type": "execute_result"
    }
   ],
   "source": [
    "a.description"
   ]
  },
  {
   "cell_type": "code",
   "execution_count": 13,
   "metadata": {},
   "outputs": [
    {
     "data": {
      "text/plain": [
       "{'id': 1, 'description': 'dadasd'}"
      ]
     },
     "execution_count": 13,
     "metadata": {},
     "output_type": "execute_result"
    }
   ],
   "source": [
    "{'id': 1, 'description': 'dadasd'}\n"
   ]
  },
  {
   "cell_type": "code",
   "execution_count": 16,
   "metadata": {},
   "outputs": [],
   "source": [
    "from abc import ABC, abstractmethod\n",
    "from pydantic import BaseModel\n",
    "\n",
    "\n",
    "class ToolCard(ABC):\n",
    "    @property\n",
    "    @abstractmethod\n",
    "    def description(self) -> str:\n",
    "        pass\n",
    "    \n",
    "    @property\n",
    "    @abstractmethod\n",
    "    def inputs(self) -> BaseModel:\n",
    "        pass\n",
    "    \n",
    "    @property\n",
    "    @abstractmethod\n",
    "    def outputs(self) -> BaseModel:\n",
    "        pass\n",
    "    \n",
    "    @property\n",
    "    @abstractmethod\n",
    "    def user_metadata(self):\n",
    "        pass\n",
    "    "
   ]
  },
  {
   "cell_type": "code",
   "execution_count": 19,
   "metadata": {},
   "outputs": [],
   "source": [
    "from abc import ABC, abstractmethod\n",
    "from pydantic import BaseModel\n",
    "\n",
    "\n",
    "class ToolCard(ABC):\n",
    "    @property\n",
    "    @abstractmethod\n",
    "    def description(self) -> str:\n",
    "        pass\n",
    "    \n",
    "    @property\n",
    "    @abstractmethod\n",
    "    def inputs(self) -> BaseModel:\n",
    "        pass\n",
    "    \n",
    "    @property\n",
    "    @abstractmethod\n",
    "    def outputs(self) -> BaseModel:\n",
    "        pass\n",
    "    \n",
    "    @property\n",
    "    @abstractmethod\n",
    "    def user_metadata(self):\n",
    "        pass\n",
    "    \n",
    "\n",
    "\n",
    "class MyToolCard(ToolCard):\n",
    "    class Inputs(BaseModel):\n",
    "        input1: str\n",
    "        input2: int\n",
    "    \n",
    "    class Outputs(BaseModel):\n",
    "        output1: str\n",
    "        output2: int\n",
    "        \n",
    "        \n",
    "    \n",
    "    \n",
    "    def __init__(self):\n",
    "        self._description = \"desc\"\n",
    "        self._inputs = self.Inputs\n",
    "        self._outputs = self.Outputs\n",
    "        self._user_metadata = {}\n",
    "        \n",
    "    @property\n",
    "    def description(self) -> str:\n",
    "        return self._description\n",
    "    \n",
    "    @property\n",
    "    def inputs(self) -> BaseModel:\n",
    "        return self._inputs\n",
    "    \n",
    "    @property\n",
    "    def outputs(self) -> BaseModel:\n",
    "        return self._outputs\n",
    "    \n",
    "    @property\n",
    "    def user_metadata(self):\n",
    "        return self._user_metadata"
   ]
  },
  {
   "cell_type": "code",
   "execution_count": null,
   "metadata": {},
   "outputs": [
    {
     "name": "stderr",
     "output_type": "stream",
     "text": [
      "C:\\Users\\xe050991266\\AppData\\Local\\Temp\\ipykernel_17828\\986025804.py:2: PydanticDeprecatedSince20: The `schema` method is deprecated; use `model_json_schema` instead. Deprecated in Pydantic V2.0 to be removed in V3.0. See Pydantic V2 Migration Guide at https://errors.pydantic.dev/2.10/migration/\n",
      "  new_tool.inputs.schema()\n"
     ]
    },
    {
     "data": {
      "text/plain": [
       "{'properties': {'input1': {'title': 'Input1', 'type': 'string'},\n",
       "  'input2': {'title': 'Input2', 'type': 'integer'}},\n",
       " 'required': ['input1', 'input2'],\n",
       " 'title': 'Inputs',\n",
       " 'type': 'object'}"
      ]
     },
     "execution_count": 23,
     "metadata": {},
     "output_type": "execute_result"
    }
   ],
   "source": [
    "new_tool = MyToolCard()\n",
    "new_tool.inputs.schema()"
   ]
  },
  {
   "cell_type": "code",
   "execution_count": null,
   "metadata": {},
   "outputs": [
    {
     "ename": "NameError",
     "evalue": "name 'default_subscription' is not defined",
     "output_type": "error",
     "traceback": [
      "\u001b[1;31m---------------------------------------------------------------------------\u001b[0m",
      "\u001b[1;31mNameError\u001b[0m                                 Traceback (most recent call last)",
      "Cell \u001b[1;32mIn[24], line 1\u001b[0m\n\u001b[1;32m----> 1\u001b[0m \u001b[38;5;129m@default_subscription\u001b[39m\n\u001b[0;32m      2\u001b[0m \u001b[38;5;28;01mclass\u001b[39;00m\u001b[38;5;250m \u001b[39m\u001b[38;5;21;01mModifier\u001b[39;00m(RoutedAgent):\n\u001b[0;32m      3\u001b[0m     \u001b[38;5;28;01mdef\u001b[39;00m\u001b[38;5;250m \u001b[39m\u001b[38;5;21m__init__\u001b[39m(\u001b[38;5;28mself\u001b[39m, modify_val: Callable[[\u001b[38;5;28mint\u001b[39m], \u001b[38;5;28mint\u001b[39m]) \u001b[38;5;241m-\u001b[39m\u001b[38;5;241m>\u001b[39m \u001b[38;5;28;01mNone\u001b[39;00m:\n\u001b[0;32m      4\u001b[0m         \u001b[38;5;28msuper\u001b[39m()\u001b[38;5;241m.\u001b[39m\u001b[38;5;21m__init__\u001b[39m(\u001b[38;5;124m\"\u001b[39m\u001b[38;5;124mA modifier agent.\u001b[39m\u001b[38;5;124m\"\u001b[39m)\n",
      "\u001b[1;31mNameError\u001b[0m: name 'default_subscription' is not defined"
     ]
    }
   ],
   "source": [
    "from autogen_core import DefaultTopicId, MessageContext, RoutedAgent, default_subscription, message_handler\n",
    "\n",
    "\n",
    "class MyTool(Tool):\n",
    "    class MyToolInput(BaseModel):\n",
    "        input: str\n",
    "    \n",
    "    class MyToolOutput(BaseModel):\n",
    "        output: str\n",
    "    \n",
    "    def __init__(self):\n",
    "        self.card = ToolCard()\n",
    "        self.card.description = \"This tool is a simple echo tool that returns the input as the output.\"\n",
    "        self.card.inputs = self.MyToolInput\n",
    "        self.card.outputs = self.MyToolOutput\n",
    "        self.card.user_metadata = {\"author\": \"Your Name\", \"version\": \"0.0.1\"}\n",
    "    @property\n",
    "    def card(self) -> ToolCard:\n",
    "        return self.card\n",
    "    \n",
    "    async def run(self, inputs: BaseModel) -> BaseModel:\n",
    "        return self.MyToolOutput(output=inputs.input)\n",
    "\n",
    "\n",
    "@default_subscription\n",
    "class Modifier(RoutedAgent):\n",
    "    def __init__(self) -> None:\n",
    "        super().__init__(\"A modifier agent.\")\n",
    "\n",
    "    @message_handler\n",
    "    async def handle_message(self, message: MyToolInput, ctx: MessageContext) -> None:\n",
    "        \n",
    "        await self.publish_message(MyToolOutput(output=\"sample\"), DefaultTopicId())  # type: ignore\n"
   ]
  },
  {
   "cell_type": "code",
   "execution_count": null,
   "metadata": {},
   "outputs": [],
   "source": []
  },
  {
   "cell_type": "code",
   "execution_count": null,
   "metadata": {},
   "outputs": [],
   "source": []
  }
 ],
 "metadata": {
  "kernelspec": {
   "display_name": ".venv",
   "language": "python",
   "name": "python3"
  },
  "language_info": {
   "codemirror_mode": {
    "name": "ipython",
    "version": 3
   },
   "file_extension": ".py",
   "mimetype": "text/x-python",
   "name": "python",
   "nbconvert_exporter": "python",
   "pygments_lexer": "ipython3",
   "version": "3.10.11"
  }
 },
 "nbformat": 4,
 "nbformat_minor": 2
}
