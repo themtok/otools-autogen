{
 "cells": [
  {
   "cell_type": "code",
   "execution_count": 1,
   "metadata": {},
   "outputs": [],
   "source": [
    "from pydantic import BaseModel\n"
   ]
  },
  {
   "cell_type": "code",
   "execution_count": 2,
   "metadata": {},
   "outputs": [],
   "source": [
    "class ToolsCard(BaseModel):\n",
    "    id: int\n",
    "    name: str\n",
    "    description: str\n",
    "    image: str\n",
    "    url: str\n",
    "    category: str\n",
    "    tags: list[str]\n",
    "    rating: float\n",
    "    rating_count: int\n",
    "    created_at: str\n",
    "    updated_at: str"
   ]
  },
  {
   "cell_type": "code",
   "execution_count": 10,
   "metadata": {},
   "outputs": [],
   "source": [
    "a = ToolsCard.model_construct(id = 1,description =\"dadasd\")"
   ]
  },
  {
   "cell_type": "code",
   "execution_count": 14,
   "metadata": {},
   "outputs": [
    {
     "data": {
      "text/plain": [
       "dict"
      ]
     },
     "execution_count": 14,
     "metadata": {},
     "output_type": "execute_result"
    }
   ],
   "source": [
    "type(a.model_dump())"
   ]
  },
  {
   "cell_type": "code",
   "execution_count": 11,
   "metadata": {},
   "outputs": [
    {
     "data": {
      "text/plain": [
       "'dadasd'"
      ]
     },
     "execution_count": 11,
     "metadata": {},
     "output_type": "execute_result"
    }
   ],
   "source": [
    "a.description"
   ]
  },
  {
   "cell_type": "code",
   "execution_count": 13,
   "metadata": {},
   "outputs": [
    {
     "data": {
      "text/plain": [
       "{'id': 1, 'description': 'dadasd'}"
      ]
     },
     "execution_count": 13,
     "metadata": {},
     "output_type": "execute_result"
    }
   ],
   "source": [
    "{'id': 1, 'description': 'dadasd'}\n"
   ]
  },
  {
   "cell_type": "code",
   "execution_count": 16,
   "metadata": {},
   "outputs": [],
   "source": [
    "from abc import ABC, abstractmethod\n",
    "from pydantic import BaseModel\n",
    "\n",
    "\n",
    "class ToolCard(ABC):\n",
    "    @property\n",
    "    @abstractmethod\n",
    "    def description(self) -> str:\n",
    "        pass\n",
    "    \n",
    "    @property\n",
    "    @abstractmethod\n",
    "    def inputs(self) -> BaseModel:\n",
    "        pass\n",
    "    \n",
    "    @property\n",
    "    @abstractmethod\n",
    "    def outputs(self) -> BaseModel:\n",
    "        pass\n",
    "    \n",
    "    @property\n",
    "    @abstractmethod\n",
    "    def user_metadata(self):\n",
    "        pass\n",
    "    "
   ]
  },
  {
   "cell_type": "code",
   "execution_count": 19,
   "metadata": {},
   "outputs": [],
   "source": [
    "from abc import ABC, abstractmethod\n",
    "from pydantic import BaseModel\n",
    "\n",
    "\n",
    "class ToolCard(ABC):\n",
    "    @property\n",
    "    @abstractmethod\n",
    "    def description(self) -> str:\n",
    "        pass\n",
    "    \n",
    "    @property\n",
    "    @abstractmethod\n",
    "    def inputs(self) -> BaseModel:\n",
    "        pass\n",
    "    \n",
    "    @property\n",
    "    @abstractmethod\n",
    "    def outputs(self) -> BaseModel:\n",
    "        pass\n",
    "    \n",
    "    @property\n",
    "    @abstractmethod\n",
    "    def user_metadata(self):\n",
    "        pass\n",
    "    \n",
    "\n",
    "\n",
    "class MyToolCard(ToolCard):\n",
    "    class Inputs(BaseModel):\n",
    "        input1: str\n",
    "        input2: int\n",
    "    \n",
    "    class Outputs(BaseModel):\n",
    "        output1: str\n",
    "        output2: int\n",
    "        \n",
    "        \n",
    "    \n",
    "    \n",
    "    def __init__(self):\n",
    "        self._description = \"desc\"\n",
    "        self._inputs = self.Inputs\n",
    "        self._outputs = self.Outputs\n",
    "        self._user_metadata = {}\n",
    "        \n",
    "    @property\n",
    "    def description(self) -> str:\n",
    "        return self._description\n",
    "    \n",
    "    @property\n",
    "    def inputs(self) -> BaseModel:\n",
    "        return self._inputs\n",
    "    \n",
    "    @property\n",
    "    def outputs(self) -> BaseModel:\n",
    "        return self._outputs\n",
    "    \n",
    "    @property\n",
    "    def user_metadata(self):\n",
    "        return self._user_metadata"
   ]
  },
  {
   "cell_type": "code",
   "execution_count": null,
   "metadata": {},
   "outputs": [
    {
     "name": "stderr",
     "output_type": "stream",
     "text": [
      "C:\\Users\\xe050991266\\AppData\\Local\\Temp\\ipykernel_17828\\986025804.py:2: PydanticDeprecatedSince20: The `schema` method is deprecated; use `model_json_schema` instead. Deprecated in Pydantic V2.0 to be removed in V3.0. See Pydantic V2 Migration Guide at https://errors.pydantic.dev/2.10/migration/\n",
      "  new_tool.inputs.schema()\n"
     ]
    },
    {
     "data": {
      "text/plain": [
       "{'properties': {'input1': {'title': 'Input1', 'type': 'string'},\n",
       "  'input2': {'title': 'Input2', 'type': 'integer'}},\n",
       " 'required': ['input1', 'input2'],\n",
       " 'title': 'Inputs',\n",
       " 'type': 'object'}"
      ]
     },
     "execution_count": 23,
     "metadata": {},
     "output_type": "execute_result"
    }
   ],
   "source": [
    "new_tool = MyToolCard()\n",
    "new_tool.inputs.schema()"
   ]
  },
  {
   "cell_type": "code",
   "execution_count": null,
   "metadata": {},
   "outputs": [
    {
     "ename": "NameError",
     "evalue": "name 'default_subscription' is not defined",
     "output_type": "error",
     "traceback": [
      "\u001b[1;31m---------------------------------------------------------------------------\u001b[0m",
      "\u001b[1;31mNameError\u001b[0m                                 Traceback (most recent call last)",
      "Cell \u001b[1;32mIn[24], line 1\u001b[0m\n\u001b[1;32m----> 1\u001b[0m \u001b[38;5;129m@default_subscription\u001b[39m\n\u001b[0;32m      2\u001b[0m \u001b[38;5;28;01mclass\u001b[39;00m\u001b[38;5;250m \u001b[39m\u001b[38;5;21;01mModifier\u001b[39;00m(RoutedAgent):\n\u001b[0;32m      3\u001b[0m     \u001b[38;5;28;01mdef\u001b[39;00m\u001b[38;5;250m \u001b[39m\u001b[38;5;21m__init__\u001b[39m(\u001b[38;5;28mself\u001b[39m, modify_val: Callable[[\u001b[38;5;28mint\u001b[39m], \u001b[38;5;28mint\u001b[39m]) \u001b[38;5;241m-\u001b[39m\u001b[38;5;241m>\u001b[39m \u001b[38;5;28;01mNone\u001b[39;00m:\n\u001b[0;32m      4\u001b[0m         \u001b[38;5;28msuper\u001b[39m()\u001b[38;5;241m.\u001b[39m\u001b[38;5;21m__init__\u001b[39m(\u001b[38;5;124m\"\u001b[39m\u001b[38;5;124mA modifier agent.\u001b[39m\u001b[38;5;124m\"\u001b[39m)\n",
      "\u001b[1;31mNameError\u001b[0m: name 'default_subscription' is not defined"
     ]
    }
   ],
   "source": [
    "from autogen_core import DefaultTopicId, MessageContext, RoutedAgent, default_subscription, message_handler\n",
    "\n",
    "\n",
    "class MyTool(Tool):\n",
    "    class MyToolInput(BaseModel):\n",
    "        input: str\n",
    "    \n",
    "    class MyToolOutput(BaseModel):\n",
    "        output: str\n",
    "    \n",
    "    def __init__(self):\n",
    "        self.card = ToolCard()\n",
    "        self.card.description = \"This tool is a simple echo tool that returns the input as the output.\"\n",
    "        self.card.inputs = self.MyToolInput\n",
    "        self.card.outputs = self.MyToolOutput\n",
    "        self.card.user_metadata = {\"author\": \"Your Name\", \"version\": \"0.0.1\"}\n",
    "    @property\n",
    "    def card(self) -> ToolCard:\n",
    "        return self.card\n",
    "    \n",
    "    async def run(self, inputs: BaseModel) -> BaseModel:\n",
    "        return self.MyToolOutput(output=inputs.input)\n",
    "\n",
    "\n",
    "@default_subscription\n",
    "class Modifier(RoutedAgent):\n",
    "    def __init__(self) -> None:\n",
    "        super().__init__(\"A modifier agent.\")\n",
    "\n",
    "    @message_handler\n",
    "    async def handle_message(self, message: MyToolInput, ctx: MessageContext) -> None:\n",
    "        \n",
    "        await self.publish_message(MyToolOutput(output=\"sample\"), DefaultTopicId())  # type: ignore\n"
   ]
  },
  {
   "cell_type": "code",
   "execution_count": null,
   "metadata": {},
   "outputs": [],
   "source": []
  },
  {
   "cell_type": "code",
   "execution_count": 4,
   "metadata": {},
   "outputs": [
    {
     "data": {
      "text/plain": [
       "<Queue at 0x191e8b9d900 maxsize=0>"
      ]
     },
     "execution_count": 4,
     "metadata": {},
     "output_type": "execute_result"
    }
   ],
   "source": [
    "from collections import defaultdict\n",
    "import asyncio\n",
    "session_input_queues = defaultdict(asyncio.Queue) \n",
    "session_input_queues[\"Dupa\"]"
   ]
  },
  {
   "cell_type": "code",
   "execution_count": 5,
   "metadata": {},
   "outputs": [
    {
     "data": {
      "text/plain": [
       "<Queue at 0x191e8b9d900 maxsize=0>"
      ]
     },
     "execution_count": 5,
     "metadata": {},
     "output_type": "execute_result"
    }
   ],
   "source": [
    "session_input_queues[\"Dupa\"]"
   ]
  },
  {
   "cell_type": "code",
   "execution_count": 6,
   "metadata": {},
   "outputs": [],
   "source": [
    "import otools_autogen.manager_v2"
   ]
  },
  {
   "cell_type": "code",
   "execution_count": 9,
   "metadata": {},
   "outputs": [],
   "source": [
    "acls = otools_autogen.manager_v2.ContextVerifier"
   ]
  },
  {
   "cell_type": "code",
   "execution_count": 10,
   "metadata": {},
   "outputs": [
    {
     "ename": "RuntimeError",
     "evalue": "AgentInstantiationContext.runtime() must be called within an instantiation context such as when the AgentRuntime is instantiating an agent. Mostly likely this was caused by directly instantiating an agent instead of using the AgentRuntime to do so.",
     "output_type": "error",
     "traceback": [
      "\u001b[1;31m---------------------------------------------------------------------------\u001b[0m",
      "\u001b[1;31mLookupError\u001b[0m                               Traceback (most recent call last)",
      "File \u001b[1;32mc:\\dev\\octo-auto-gen\\alpha-0.01\\.venv\\lib\\site-packages\\autogen_core\\_agent_instantiation.py:107\u001b[0m, in \u001b[0;36mAgentInstantiationContext.current_runtime\u001b[1;34m(cls)\u001b[0m\n\u001b[0;32m    106\u001b[0m \u001b[38;5;28;01mtry\u001b[39;00m:\n\u001b[1;32m--> 107\u001b[0m     \u001b[38;5;28;01mreturn\u001b[39;00m \u001b[38;5;28;43mcls\u001b[39;49m\u001b[38;5;241;43m.\u001b[39;49m\u001b[43m_AGENT_INSTANTIATION_CONTEXT_VAR\u001b[49m\u001b[38;5;241;43m.\u001b[39;49m\u001b[43mget\u001b[49m\u001b[43m(\u001b[49m\u001b[43m)\u001b[49m[\u001b[38;5;241m0\u001b[39m]\n\u001b[0;32m    108\u001b[0m \u001b[38;5;28;01mexcept\u001b[39;00m \u001b[38;5;167;01mLookupError\u001b[39;00m \u001b[38;5;28;01mas\u001b[39;00m e:\n",
      "\u001b[1;31mLookupError\u001b[0m: <ContextVar name='_AGENT_INSTANTIATION_CONTEXT_VAR' at 0x00000191E9A84EA0>",
      "\nThe above exception was the direct cause of the following exception:\n",
      "\u001b[1;31mRuntimeError\u001b[0m                              Traceback (most recent call last)",
      "Cell \u001b[1;32mIn[10], line 1\u001b[0m\n\u001b[1;32m----> 1\u001b[0m a \u001b[38;5;241m=\u001b[39m \u001b[43macls\u001b[49m\u001b[43m(\u001b[49m\u001b[43m)\u001b[49m\n",
      "File \u001b[1;32mc:\\dev\\octo-auto-gen\\alpha-0.01\\otools_autogen\\manager_v2.py:185\u001b[0m, in \u001b[0;36mContextVerifier.__init__\u001b[1;34m(self)\u001b[0m\n\u001b[0;32m    184\u001b[0m \u001b[38;5;28;01mdef\u001b[39;00m\u001b[38;5;250m \u001b[39m\u001b[38;5;21m__init__\u001b[39m(\u001b[38;5;28mself\u001b[39m):\n\u001b[1;32m--> 185\u001b[0m     \u001b[38;5;28;43msuper\u001b[39;49m\u001b[43m(\u001b[49m\u001b[43m)\u001b[49m\u001b[38;5;241;43m.\u001b[39;49m\u001b[38;5;21;43m__init__\u001b[39;49m\u001b[43m(\u001b[49m\u001b[38;5;124;43m\"\u001b[39;49m\u001b[38;5;124;43mContextVerifier\u001b[39;49m\u001b[38;5;124;43m\"\u001b[39;49m\u001b[43m)\u001b[49m\n\u001b[0;32m    186\u001b[0m     \u001b[38;5;28mprint\u001b[39m(\u001b[38;5;124mf\u001b[39m\u001b[38;5;124m\"\u001b[39m\u001b[38;5;124m>>>>__init__  ContextVerifier agent. \u001b[39m\u001b[38;5;132;01m{\u001b[39;00m\u001b[38;5;28mstr\u001b[39m(\u001b[38;5;28mself\u001b[39m)\u001b[38;5;132;01m}\u001b[39;00m\u001b[38;5;124m \u001b[39m\u001b[38;5;132;01m{\u001b[39;00m\u001b[38;5;28mself\u001b[39m\u001b[38;5;241m.\u001b[39mid\u001b[38;5;132;01m}\u001b[39;00m\u001b[38;5;124m\"\u001b[39m)\n",
      "File \u001b[1;32mc:\\dev\\octo-auto-gen\\alpha-0.01\\.venv\\lib\\site-packages\\autogen_core\\_base_agent.py:86\u001b[0m, in \u001b[0;36mBaseAgent.__init__\u001b[1;34m(self, description)\u001b[0m\n\u001b[0;32m     84\u001b[0m \u001b[38;5;28;01mdef\u001b[39;00m\u001b[38;5;250m \u001b[39m\u001b[38;5;21m__init__\u001b[39m(\u001b[38;5;28mself\u001b[39m, description: \u001b[38;5;28mstr\u001b[39m) \u001b[38;5;241m-\u001b[39m\u001b[38;5;241m>\u001b[39m \u001b[38;5;28;01mNone\u001b[39;00m:\n\u001b[0;32m     85\u001b[0m     \u001b[38;5;28;01mtry\u001b[39;00m:\n\u001b[1;32m---> 86\u001b[0m         runtime \u001b[38;5;241m=\u001b[39m \u001b[43mAgentInstantiationContext\u001b[49m\u001b[38;5;241;43m.\u001b[39;49m\u001b[43mcurrent_runtime\u001b[49m\u001b[43m(\u001b[49m\u001b[43m)\u001b[49m\n\u001b[0;32m     87\u001b[0m         \u001b[38;5;28mid\u001b[39m \u001b[38;5;241m=\u001b[39m AgentInstantiationContext\u001b[38;5;241m.\u001b[39mcurrent_agent_id()\n\u001b[0;32m     88\u001b[0m     \u001b[38;5;28;01mexcept\u001b[39;00m \u001b[38;5;167;01mLookupError\u001b[39;00m \u001b[38;5;28;01mas\u001b[39;00m e:\n",
      "File \u001b[1;32mc:\\dev\\octo-auto-gen\\alpha-0.01\\.venv\\lib\\site-packages\\autogen_core\\_agent_instantiation.py:109\u001b[0m, in \u001b[0;36mAgentInstantiationContext.current_runtime\u001b[1;34m(cls)\u001b[0m\n\u001b[0;32m    107\u001b[0m     \u001b[38;5;28;01mreturn\u001b[39;00m \u001b[38;5;28mcls\u001b[39m\u001b[38;5;241m.\u001b[39m_AGENT_INSTANTIATION_CONTEXT_VAR\u001b[38;5;241m.\u001b[39mget()[\u001b[38;5;241m0\u001b[39m]\n\u001b[0;32m    108\u001b[0m \u001b[38;5;28;01mexcept\u001b[39;00m \u001b[38;5;167;01mLookupError\u001b[39;00m \u001b[38;5;28;01mas\u001b[39;00m e:\n\u001b[1;32m--> 109\u001b[0m     \u001b[38;5;28;01mraise\u001b[39;00m \u001b[38;5;167;01mRuntimeError\u001b[39;00m(\n\u001b[0;32m    110\u001b[0m         \u001b[38;5;124m\"\u001b[39m\u001b[38;5;124mAgentInstantiationContext.runtime() must be called within an instantiation context such as when the AgentRuntime is instantiating an agent. Mostly likely this was caused by directly instantiating an agent instead of using the AgentRuntime to do so.\u001b[39m\u001b[38;5;124m\"\u001b[39m\n\u001b[0;32m    111\u001b[0m     ) \u001b[38;5;28;01mfrom\u001b[39;00m\u001b[38;5;250m \u001b[39m\u001b[38;5;21;01me\u001b[39;00m\n",
      "\u001b[1;31mRuntimeError\u001b[0m: AgentInstantiationContext.runtime() must be called within an instantiation context such as when the AgentRuntime is instantiating an agent. Mostly likely this was caused by directly instantiating an agent instead of using the AgentRuntime to do so."
     ]
    }
   ],
   "source": [
    "a = acls()"
   ]
  },
  {
   "cell_type": "code",
   "execution_count": 10,
   "metadata": {},
   "outputs": [
    {
     "name": "stdout",
     "output_type": "stream",
     "text": [
      "{'properties': {'a': {'description': 'a', 'title': 'A', 'type': 'string'}, 'b': {'description': 'b', 'title': 'B', 'type': 'integer'}}, 'required': ['a', 'b'], 'title': 'A', 'type': 'object'}\n"
     ]
    },
    {
     "data": {
      "text/plain": [
       "{'a': 'a', 'b': 1}"
      ]
     },
     "execution_count": 10,
     "metadata": {},
     "output_type": "execute_result"
    }
   ],
   "source": [
    "from pydantic import BaseModel, Field\n",
    "class A(BaseModel):\n",
    "    a: str = Field(description=\"a\")\n",
    "    b: int = Field(description=\"b\")\n",
    "print(A.model_json_schema())\n",
    "\n",
    "a = A(a=\"a\",b=1)    \n",
    "a.model_dump()\n",
    "\n"
   ]
  },
  {
   "cell_type": "code",
   "execution_count": 11,
   "metadata": {},
   "outputs": [],
   "source": [
    "llm_arg = '{\"age\":50,\"weight\":121.5,\"gender\":\"male\",\"height\":203.0,\"activity_level\":\"low\",\"health_condition\":\"moderate\",\"deaseases\":\"diabetes\"}'"
   ]
  },
  {
   "cell_type": "code",
   "execution_count": 14,
   "metadata": {},
   "outputs": [],
   "source": [
    "from otools_autogen.tools import Tool, ToolCard\n",
    "class DietPlanningTool(Tool):\n",
    "            class DietPlanningToolInput(BaseModel):\n",
    "                age: int\n",
    "                weight: float\n",
    "                gender: str\n",
    "                height: float\n",
    "                activity_level: str\n",
    "                health_condition: str\n",
    "                deaseases: str\n",
    "                \n",
    "            class DietPlanningToolOutput(BaseModel):\n",
    "                diet_plan: str\n",
    "            @property\n",
    "            def card(self) -> ToolCard:\n",
    "                return ToolCard(\n",
    "                    name=\"Diet composer tool\",\n",
    "                    description=\"Tool for composing a diet. It is able to generate a diet based on the user's preferences.\",\n",
    "                    inputs=DietPlanningTool.DietPlanningToolInput,\n",
    "                    outputs=DietPlanningTool.DietPlanningToolOutput,\n",
    "                    user_metadata={},\n",
    "                    demo_input=[DietPlanningTool.DietPlanningToolInput(\n",
    "                            age=30,\n",
    "                            weight=70.5,\n",
    "                            gender=\"male\",\n",
    "                            height=175.0,\n",
    "                            activity_level=\"moderate\",\n",
    "                            health_condition=\"good\",\n",
    "                            deaseases=\"none\"\n",
    "                        ), DietPlanningTool.DietPlanningToolInput(\n",
    "                           age=50,  \n",
    "                            weight=121.5,\n",
    "                            gender=\"male\",\n",
    "                            height=203.0,\n",
    "                            activity_level=\"low\",\n",
    "                            health_condition=\"moderate\",\n",
    "                            deaseases=\"diabetes\"\n",
    "                        )]\n",
    "                                \n",
    "                        \n",
    "                )\n",
    "\n",
    "            async def run(self, inputs: DietPlanningToolInput) -> BaseModel:\n",
    "                print(f\"Running MyTool with input: {inputs.message}\")\n",
    "                return DietPlanningTool.DietPlanningToolOutput(message=\"out\")"
   ]
  },
  {
   "cell_type": "code",
   "execution_count": 18,
   "metadata": {},
   "outputs": [
    {
     "data": {
      "text/plain": [
       "DietPlanningToolInput(age=50, weight=121.5, gender='male', height=203.0, activity_level='low', health_condition='moderate', deaseases='diabetes')"
      ]
     },
     "execution_count": 18,
     "metadata": {},
     "output_type": "execute_result"
    }
   ],
   "source": [
    "import json\n",
    "j = json.loads(llm_arg)\n",
    "\n",
    "DietPlanningTool.DietPlanningToolInput.model_validate(j)"
   ]
  },
  {
   "cell_type": "code",
   "execution_count": null,
   "metadata": {},
   "outputs": [],
   "source": []
  }
 ],
 "metadata": {
  "kernelspec": {
   "display_name": ".venv",
   "language": "python",
   "name": "python3"
  },
  "language_info": {
   "codemirror_mode": {
    "name": "ipython",
    "version": 3
   },
   "file_extension": ".py",
   "mimetype": "text/x-python",
   "name": "python",
   "nbconvert_exporter": "python",
   "pygments_lexer": "ipython3",
   "version": "3.12.6"
  }
 },
 "nbformat": 4,
 "nbformat_minor": 2
}
